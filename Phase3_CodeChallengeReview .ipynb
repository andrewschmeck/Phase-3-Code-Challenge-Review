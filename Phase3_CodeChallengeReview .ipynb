{
 "cells": [
  {
   "cell_type": "code",
   "execution_count": 2,
   "id": "a0ee2291",
   "metadata": {},
   "outputs": [],
   "source": [
    "from numbers import Number \n",
    "import numpy as np "
   ]
  },
  {
   "cell_type": "markdown",
   "id": "c8fc5157",
   "metadata": {},
   "source": [
    "## Short Answer Questions "
   ]
  },
  {
   "cell_type": "markdown",
   "id": "0462d639",
   "metadata": {},
   "source": [
    "\n",
    "For the short answer questions...\n",
    "\n",
    "Use your own words. It is OK to refer to outside resources when crafting your response, but do not copy text from another source.\n",
    "\n",
    "Communicate clearly. We are not grading your writing skills, but you can only receive full credit if your teacher is able to fully understand your response.\n",
    "\n",
    "Be concise. You should be able to answer most short answer questions in a sentence or two. Writing unnecessarily long answers increases the risk of you being unclear or saying something incorrect."
   ]
  },
  {
   "cell_type": "markdown",
   "id": "b8249d35",
   "metadata": {},
   "source": [
    "## Part 1 Gradient Descent "
   ]
  },
  {
   "attachments": {},
   "cell_type": "markdown",
   "id": "e72befa7",
   "metadata": {},
   "source": [
    "![gradient.jpeg](images/gradient.jpeg)"
   ]
  },
  {
   "cell_type": "markdown",
   "id": "8177ece6",
   "metadata": {},
   "source": [
    "### 1) Explain how the curve above could be used to find the optimal value of w?"
   ]
  },
  {
   "cell_type": "markdown",
   "id": "c29331ea",
   "metadata": {},
   "source": [
    "Type Solution in this Box "
   ]
  },
  {
   "cell_type": "markdown",
   "id": "b16ff56b",
   "metadata": {},
   "source": [
    "### 2) Notice that the distance between the markers get smaller due to the slope becoming less steep, what would be the effect of increasing the learning rate in gradient descent?"
   ]
  },
  {
   "cell_type": "markdown",
   "id": "c0273d03",
   "metadata": {},
   "source": [
    "Type Solution in this Box "
   ]
  },
  {
   "cell_type": "markdown",
   "id": "1a3faaef",
   "metadata": {},
   "source": [
    "## Part 2 Logistic Regression "
   ]
  },
  {
   "cell_type": "markdown",
   "id": "7b65d28b",
   "metadata": {},
   "source": [
    "### 3) Why is Logistic Regression better to use than linear when predicting a binary target?"
   ]
  },
  {
   "cell_type": "markdown",
   "id": "ca3cd542",
   "metadata": {},
   "source": [
    "Type Solution Here "
   ]
  },
  {
   "cell_type": "markdown",
   "id": "89b2f59c",
   "metadata": {},
   "source": [
    "### 4) Compare Logistic Regression to another classification model (KNN, Decision Trees).  List advantages and disadvantages of each model"
   ]
  },
  {
   "cell_type": "markdown",
   "id": "393b4833",
   "metadata": {},
   "source": [
    "Type Solution Here "
   ]
  },
  {
   "cell_type": "markdown",
   "id": "00f0f16e",
   "metadata": {},
   "source": [
    "### 5) Compare Logistic Regression to Linear Regression "
   ]
  },
  {
   "cell_type": "markdown",
   "id": "b829f492",
   "metadata": {},
   "source": [
    "Type Solution Here "
   ]
  },
  {
   "cell_type": "markdown",
   "id": "ac0b53a9",
   "metadata": {},
   "source": [
    "## Part 3). Classification Metrics "
   ]
  },
  {
   "attachments": {},
   "cell_type": "markdown",
   "id": "d9efd5ae",
   "metadata": {},
   "source": [
    "![confusionR1.png](images/confusionR1.png)"
   ]
  },
  {
   "cell_type": "markdown",
   "id": "08516fab",
   "metadata": {},
   "source": [
    "### 6). Using the confusion matrix above, calculate precision, accuracy, and recall."
   ]
  },
  {
   "cell_type": "code",
   "execution_count": 3,
   "id": "a1036124",
   "metadata": {},
   "outputs": [],
   "source": [
    "Precision = None \n",
    "Accuracy = None \n",
    "Recall = None "
   ]
  },
  {
   "cell_type": "markdown",
   "id": "cbf91026",
   "metadata": {},
   "source": [
    "### 7) Replace the F1 score variable that contains the F1 score of the classifier"
   ]
  },
  {
   "cell_type": "code",
   "execution_count": 4,
   "id": "253690bf",
   "metadata": {},
   "outputs": [],
   "source": [
    "F1_Score = None "
   ]
  },
  {
   "attachments": {},
   "cell_type": "markdown",
   "id": "99d1158c",
   "metadata": {},
   "source": [
    "![ROC-curve-780x480.png](images/ROC-curve-780x480.png)"
   ]
  },
  {
   "cell_type": "markdown",
   "id": "36afa68b",
   "metadata": {},
   "source": [
    "### 8). What ROC curve above is the worst and explain your reasoning. "
   ]
  },
  {
   "cell_type": "markdown",
   "id": "e70395bb",
   "metadata": {},
   "source": [
    "Type Solution Here "
   ]
  },
  {
   "cell_type": "markdown",
   "id": "79fb159d",
   "metadata": {},
   "source": [
    "### 9) If there is a class imbalance in logistic regression, what is at least one method you could use to address this imbalance?"
   ]
  },
  {
   "cell_type": "markdown",
   "id": "e2d05813",
   "metadata": {},
   "source": [
    "Type Solution Here "
   ]
  },
  {
   "cell_type": "markdown",
   "id": "d0393240",
   "metadata": {},
   "source": [
    "## Review Decision Tree Checkpoint/Lecture "
   ]
  },
  {
   "cell_type": "markdown",
   "id": "f5396eff",
   "metadata": {},
   "source": [
    "Notes here"
   ]
  }
 ],
 "metadata": {
  "kernelspec": {
   "display_name": "Python 3",
   "language": "python",
   "name": "python3"
  },
  "language_info": {
   "codemirror_mode": {
    "name": "ipython",
    "version": 3
   },
   "file_extension": ".py",
   "mimetype": "text/x-python",
   "name": "python",
   "nbconvert_exporter": "python",
   "pygments_lexer": "ipython3",
   "version": "3.8.8"
  }
 },
 "nbformat": 4,
 "nbformat_minor": 5
}
